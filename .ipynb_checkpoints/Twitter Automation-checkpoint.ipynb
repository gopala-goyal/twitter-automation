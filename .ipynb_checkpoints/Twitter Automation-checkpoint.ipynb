{
 "cells": [
  {
   "cell_type": "code",
   "execution_count": 1,
   "id": "754ac5c5",
   "metadata": {},
   "outputs": [],
   "source": [
    "import emoji"
   ]
  },
  {
   "cell_type": "code",
   "execution_count": 2,
   "id": "9aff8f8c",
   "metadata": {},
   "outputs": [],
   "source": [
    "import tweepy\n",
    "consumer_key = \"a1o5U9PjlpVEAieeuLpCaxga8\"\n",
    "consumer_secret = \"WMYtjIldl0VH3rMT3UvxTi8h0Q9SnC4osFZ3CHGgXGsV8Yfw7e\"\n",
    "access_token = \"817141272-VoFxF2yHb3jQ4qecmMCOI0ry9WVABRXyztxNSs8S\"\n",
    "access_token_secret = \"wSL5Ao6wjUTmbAmBuH328T2XmvXUm36oxuF458GzFysT9\"\n",
    "auth = tweepy.OAuthHandler(consumer_key, consumer_secret)\n",
    "auth.set_access_token(access_token, access_token_secret)\n",
    "\n",
    "api = tweepy.API(auth)"
   ]
  },
  {
   "cell_type": "code",
   "execution_count": 3,
   "id": "41b6350c",
   "metadata": {},
   "outputs": [],
   "source": [
    "user = api.get_user(screen_name='gopalagoyall')"
   ]
  },
  {
   "cell_type": "code",
   "execution_count": 50,
   "id": "1b40178f",
   "metadata": {},
   "outputs": [
    {
     "data": {
      "text/plain": [
       "'😢😢😢😢'"
      ]
     },
     "execution_count": 50,
     "metadata": {},
     "output_type": "execute_result"
    }
   ],
   "source": [
    "emoji.emojize(\":crying_face:\")*4"
   ]
  },
  {
   "cell_type": "code",
   "execution_count": 7,
   "id": "7f0e11a8",
   "metadata": {},
   "outputs": [
    {
     "name": "stdout",
     "output_type": "stream",
     "text": [
      "91\n"
     ]
    }
   ],
   "source": [
    "text = \"Spending money on one side, \"\n",
    "print(len(text))"
   ]
  },
  {
   "cell_type": "code",
   "execution_count": 8,
   "id": "dba87a4c",
   "metadata": {},
   "outputs": [
    {
     "data": {
      "text/plain": [
       "datetime.datetime(2022, 3, 8, 23, 2, 17)"
      ]
     },
     "execution_count": 8,
     "metadata": {},
     "output_type": "execute_result"
    }
   ],
   "source": [
    "#text = \"And I failed my G class Drive test today. \"#+(emoji.emojize(\":crying_face:\")*4)\n",
    "place_id = '3797791ff9c0e4c6'\n",
    "st = api.update_status(status = text,place_id = place_id)\n",
    "st.created_at"
   ]
  }
 ],
 "metadata": {
  "kernelspec": {
   "display_name": "Python 3",
   "language": "python",
   "name": "python3"
  },
  "language_info": {
   "codemirror_mode": {
    "name": "ipython",
    "version": 3
   },
   "file_extension": ".py",
   "mimetype": "text/x-python",
   "name": "python",
   "nbconvert_exporter": "python",
   "pygments_lexer": "ipython3",
   "version": "3.7.7"
  }
 },
 "nbformat": 4,
 "nbformat_minor": 5
}
