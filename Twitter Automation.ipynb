{
 "cells": [
  {
   "cell_type": "code",
   "execution_count": 1,
   "id": "754ac5c5",
   "metadata": {},
   "outputs": [],
   "source": [
    "import emoji"
   ]
  },
  {
   "cell_type": "code",
   "execution_count": 39,
   "id": "9aff8f8c",
   "metadata": {},
   "outputs": [],
   "source": [
    "import tweepy\n",
    "consumer_key = \"FseZVLwSgSm0eGoedWKbqRk6c\"\n",
    "consumer_secret = \"GXjLZRcm51Gg5rLoKyDYL8gpGFXAcVmMfoUXBzbeLIS4GoSr2R\"\n",
    "access_token = \"817141272-aOaeEB36H9g0IKlafCPrNY7tdxETF2yNJH2S5pxf\"\n",
    "access_token_secret = \"FBacUTPwR6SxzJhcst5CyqixKpyBrvw7ey41Ccy2pFvZO\"\n",
    "auth = tweepy.OAuthHandler(consumer_key, consumer_secret)\n",
    "auth.set_access_token(access_token, access_token_secret)\n",
    "\n",
    "api = tweepy.API(auth)"
   ]
  },
  {
   "cell_type": "code",
   "execution_count": 40,
   "id": "41b6350c",
   "metadata": {},
   "outputs": [],
   "source": [
    "user = api.get_user(screen_name='gopalagoyall')"
   ]
  },
  {
   "cell_type": "code",
   "execution_count": 104,
   "id": "1b40178f",
   "metadata": {},
   "outputs": [
    {
     "data": {
      "text/plain": [
       "':unamused:'"
      ]
     },
     "execution_count": 104,
     "metadata": {},
     "output_type": "execute_result"
    }
   ],
   "source": [
    "emoji.emojize(\":unamused:\")"
   ]
  },
  {
   "cell_type": "code",
   "execution_count": 133,
   "id": "9fd13583",
   "metadata": {},
   "outputs": [
    {
     "name": "stdout",
     "output_type": "stream",
     "text": [
      "85\n"
     ]
    }
   ],
   "source": [
    "text = \"Twitter is the new Facebook? Everyone is sharing apps and viral sach screenshots etc?\"\n",
    "print(len(text))"
   ]
  },
  {
   "cell_type": "code",
   "execution_count": 134,
   "id": "dba87a4c",
   "metadata": {},
   "outputs": [
    {
     "data": {
      "text/plain": [
       "datetime.datetime(2022, 3, 21, 21, 6, 53)"
      ]
     },
     "execution_count": 134,
     "metadata": {},
     "output_type": "execute_result"
    }
   ],
   "source": [
    "place_id = '3797791ff9c0e4c6'\n",
    "st = api.update_status(status = text,place_id = place_id)\n",
    "st.created_at"
   ]
  }
 ],
 "metadata": {
  "kernelspec": {
   "display_name": "Python 3",
   "language": "python",
   "name": "python3"
  },
  "language_info": {
   "codemirror_mode": {
    "name": "ipython",
    "version": 3
   },
   "file_extension": ".py",
   "mimetype": "text/x-python",
   "name": "python",
   "nbconvert_exporter": "python",
   "pygments_lexer": "ipython3",
   "version": "3.7.7"
  }
 },
 "nbformat": 4,
 "nbformat_minor": 5
}
